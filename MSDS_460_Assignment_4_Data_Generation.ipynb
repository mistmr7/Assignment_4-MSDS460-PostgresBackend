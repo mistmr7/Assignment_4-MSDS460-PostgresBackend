{
 "cells": [
  {
   "cell_type": "code",
   "execution_count": 3,
   "id": "45a7cbdd-1abe-4420-8895-9d4fc781b716",
   "metadata": {},
   "outputs": [],
   "source": [
    "import pandas as pd\n",
    "import numpy as np\n",
    "import random\n",
    "from faker import Faker\n",
    "import json\n",
    "import psycopg2\n",
    "from psycopg2.extras import execute_values"
   ]
  },
  {
   "cell_type": "code",
   "execution_count": 63,
   "id": "6eba28fa-643b-4cbb-8c78-d625c1ed6f2c",
   "metadata": {},
   "outputs": [],
   "source": [
    "# Connect to ExCompany database on PostgreSQL\n",
    "\n",
    "db_connection = psycopg2.connect(\n",
    "    dbname = \"ExCompany\", \n",
    "    user = \"postgres\",\n",
    "    password = \"<password>\",\n",
    "    host = \"localhost\",\n",
    "    port = 5432)\n",
    "\n",
    "# Create a cursor object to execute SQL queries\n",
    "cursor = db_connection.cursor()"
   ]
  },
  {
   "cell_type": "code",
   "execution_count": 5,
   "id": "a8a909ce-2602-4dc3-87fe-bdd6ec2f4ccf",
   "metadata": {},
   "outputs": [],
   "source": [
    "# Create a Faker instance\n",
    "fake = Faker()"
   ]
  },
  {
   "cell_type": "code",
   "execution_count": 9,
   "id": "c31eff74-d264-4b29-9bfa-cd5fc3ff2479",
   "metadata": {},
   "outputs": [
    {
     "data": {
      "text/plain": [
       "(794819, 38)"
      ]
     },
     "execution_count": 9,
     "metadata": {},
     "output_type": "execute_result"
    }
   ],
   "source": [
    "# Define area code for company phone numbers\n",
    "company_area_code = 312\n",
    "\n",
    "# Define the bounds for latitude and longitude of Chicago (where employees live)\n",
    "chicago_latitude_bounds = (41.6445, 42.023)\n",
    "chicago_longitude_bounds = (-87.9401, -87.524)\n",
    "\n",
    "# Generate random data for each column\n",
    "num_rows = 100  # Number of rows\n",
    "employee_data = []\n",
    "for row in range(num_rows):\n",
    "    employee_id = fake.unique.random_int(min = 100000, max = 999999) # Random 6-digit employee ID\n",
    "    first_name = fake.first_name()\n",
    "    last_name = fake.last_name()\n",
    "    age = int(np.clip(np.random.normal(loc = 35, scale = 10), 18, 65)) # Random age between 18 and 65 drawn from normal distribution with mean = 35, sd = 10\n",
    "    rating = max(0, min(5, round(np.random.normal(loc = 3, scale = 1), 2))) # Random rating between 0 and 5 drawn from normal distribution with mean = 3, sd = 1\n",
    "        \n",
    "    # Contact info for JSON and BJSON columns\n",
    "    email = f\"{first_name.lower()}.{last_name.lower()}@company.com\" # Generate email based on name\n",
    "    phone_number = f\"{company_area_code}-555-{fake.unique.random_int(min = 1000, max = 9999)}\" # Generate phone number with fixed area code and random extension number\n",
    "\n",
    "    # Create JSON and BJSON contact info\n",
    "    json_contact_info = {\n",
    "        'phone': phone_number,\n",
    "        'email': email,\n",
    "    }\n",
    "    bjson_contact_info = json.dumps(json_contact_info) # Serialize BJSON data to string using json.dumps()\n",
    "\n",
    "    # Info for address geometry column (drawn from uniform distribution)\n",
    "    latitude = random.uniform(chicago_latitude_bounds[0], chicago_latitude_bounds[1])\n",
    "    longitude = random.uniform(chicago_longitude_bounds[0], chicago_longitude_bounds[1])\n",
    "    address = f\"POINT({longitude} {latitude})\"  # Random point within Chicago bounds\n",
    "\n",
    "    employee_data.append((employee_id, first_name, last_name, age, rating, json.dumps(json_contact_info), json.dumps(bjson_contact_info), address))\n",
    "(employee_data[0][0], employee_data[0][3])"
   ]
  },
  {
   "cell_type": "code",
   "execution_count": 66,
   "id": "45b47229-c3af-4148-95e6-5dcaba3bad7c",
   "metadata": {},
   "outputs": [],
   "source": [
    "# Define the INSERT query\n",
    "insert_query = \"\"\"INSERT INTO employees (employee_id, first_name, last_name, age, rating, json_contact_info, bjson_contact_info, address)\n",
    "                  VALUES %s\"\"\"\n",
    "\n",
    "# Execute the INSERT query\n",
    "execute_values(cursor, insert_query, employee_data)\n",
    "\n",
    "# Commit the transaction\n",
    "db_connection.commit()"
   ]
  },
  {
   "cell_type": "code",
   "execution_count": null,
   "id": "20e857f9",
   "metadata": {},
   "outputs": [],
   "source": [
    "insert_query_full = \"\"\"INSERT INTO employees (employee_id, first_name, last_name, age, rating, json_contact_info, bjson_contact_info, address)\n",
    "                  VALUES (%s, %s, %s, %s, %s, %s, %s, %s)\"\"\"\n",
    "\n",
    "for row in employee_data:\n",
    "    cursor.execute(insert_query_full, row)"
   ]
  },
  {
   "cell_type": "code",
   "execution_count": 61,
   "id": "5a042112-9d5c-4342-9049-c788d2c759e5",
   "metadata": {},
   "outputs": [],
   "source": [
    "# Define the DELETE query\n",
    "delete_query = \"DELETE FROM employees\"\n",
    "\n",
    "# Execute the DELETE query\n",
    "cursor.execute(delete_query)\n",
    "\n",
    "# Commit the transaction and close the connection\n",
    "db_connection.commit()\n",
    "cursor.close()\n",
    "db_connection.close()"
   ]
  },
  {
   "cell_type": "code",
   "execution_count": 8,
   "id": "199b2bbf",
   "metadata": {},
   "outputs": [
    {
     "name": "stdout",
     "output_type": "stream",
     "text": [
      "0\n",
      "1\n",
      "2\n",
      "3\n",
      "4\n",
      "5\n",
      "6\n",
      "7\n",
      "8\n",
      "9\n"
     ]
    }
   ],
   "source": [
    "for i in range(0,10):\n",
    "    print(i)"
   ]
  },
  {
   "cell_type": "code",
   "execution_count": null,
   "id": "897973e5",
   "metadata": {},
   "outputs": [],
   "source": []
  }
 ],
 "metadata": {
  "kernelspec": {
   "display_name": "Python 3 (ipykernel)",
   "language": "python",
   "name": "python3"
  },
  "language_info": {
   "codemirror_mode": {
    "name": "ipython",
    "version": 3
   },
   "file_extension": ".py",
   "mimetype": "text/x-python",
   "name": "python",
   "nbconvert_exporter": "python",
   "pygments_lexer": "ipython3",
   "version": "3.11.7"
  }
 },
 "nbformat": 4,
 "nbformat_minor": 5
}
